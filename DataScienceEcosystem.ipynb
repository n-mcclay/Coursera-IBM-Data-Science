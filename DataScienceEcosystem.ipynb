{
 "cells": [
  {
   "cell_type": "markdown",
   "id": "ec9aa4bd-480f-42d0-a3d6-9a03c47b2a0d",
   "metadata": {},
   "source": [
    "# Data Science Tools and Ecosystem"
   ]
  },
  {
   "cell_type": "markdown",
   "id": "ad195fff-4844-4de3-a51a-0a03f3ad7b1e",
   "metadata": {},
   "source": [
    "**Objectives:**\n",
    "* List popular languages for Data Science\n",
    "* List common libraries for Data Science\n",
    "* Create a table for Data Science Tools\n",
    "* Demonstrate Arithmetic expressions in Python"
   ]
  },
  {
   "cell_type": "markdown",
   "id": "945f7031-ddc8-4a3a-bf6a-dcc56cbb76f9",
   "metadata": {},
   "source": [
    "## Author\n",
    "Nathan McClay"
   ]
  },
  {
   "cell_type": "markdown",
   "id": "33d1ddf4-540f-4a4f-84ab-1f7ffef8a77f",
   "metadata": {},
   "source": [
    "In this notebook, Data Science Tools and Ecosystem are summarized."
   ]
  },
  {
   "cell_type": "markdown",
   "id": "765ac3a3-c36b-471b-a09e-4f47904e4661",
   "metadata": {},
   "source": [
    "Some of the popular languages that Data Scientists use are:\n",
    "1. Python\n",
    "2. SQL\n",
    "3. R"
   ]
  },
  {
   "cell_type": "markdown",
   "id": "4dbd6744-82f6-4f9c-98e2-e9f36a843ced",
   "metadata": {},
   "source": [
    "Some of the commonly used libraries used by Data Scientists include:\n",
    "1. ggplot\n",
    "2. Scikit-learn\n",
    "3. Pandas"
   ]
  },
  {
   "cell_type": "markdown",
   "id": "4fcd7a0e-d22d-4748-8949-95a3d4c4103f",
   "metadata": {},
   "source": [
    "|Data Science Tools|\n",
    "|:--------------------:|\n",
    "|Jupyter Notebook|\n",
    "|R Studio|\n",
    "|Spyder|"
   ]
  },
  {
   "cell_type": "markdown",
   "id": "a699cbe2-36ef-46d5-bfed-2062179fcd4c",
   "metadata": {},
   "source": [
    "### Below are a few examples of evaluating arithmetic expressions in Python:\n",
    "\n"
   ]
  },
  {
   "cell_type": "code",
   "execution_count": 9,
   "id": "ebf8aab5-6391-4240-9a28-3d05f4b5d414",
   "metadata": {},
   "outputs": [
    {
     "data": {
      "text/plain": [
       "17"
      ]
     },
     "execution_count": 9,
     "metadata": {},
     "output_type": "execute_result"
    }
   ],
   "source": [
    "#This a simple arithmetic expression to mutiply then add integers\n",
    "(3*4)+5"
   ]
  },
  {
   "cell_type": "code",
   "execution_count": 11,
   "id": "2869cb46-053e-47fc-aa4e-d03d46b076a4",
   "metadata": {},
   "outputs": [
    {
     "data": {
      "text/plain": [
       "3.3333333333333335"
      ]
     },
     "execution_count": 11,
     "metadata": {},
     "output_type": "execute_result"
    }
   ],
   "source": [
    "#This will convert 200 minutes to hours by diving by 60\n",
    "200/60"
   ]
  },
  {
   "cell_type": "code",
   "execution_count": null,
   "id": "a55c3300-27db-4618-ab45-49dcb76a41d8",
   "metadata": {},
   "outputs": [],
   "source": []
  }
 ],
 "metadata": {
  "kernelspec": {
   "display_name": "Python 3 (ipykernel)",
   "language": "python",
   "name": "python3"
  },
  "language_info": {
   "codemirror_mode": {
    "name": "ipython",
    "version": 3
   },
   "file_extension": ".py",
   "mimetype": "text/x-python",
   "name": "python",
   "nbconvert_exporter": "python",
   "pygments_lexer": "ipython3",
   "version": "3.12.5"
  }
 },
 "nbformat": 4,
 "nbformat_minor": 5
}
